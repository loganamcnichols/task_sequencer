{
 "cells": [
  {
   "cell_type": "markdown",
   "metadata": {},
   "source": [
    "# Task Sequencer"
   ]
  },
  {
   "cell_type": "markdown",
   "metadata": {},
   "source": [
    "This is a tool which will calculate the optimal order to approach tasks in a project where there are several different tasks that need to be done that have a certain probability of failing and will take a certain time to complete."
   ]
  },
  {
   "cell_type": "markdown",
   "metadata": {},
   "source": [
    "When we are uncertain about the feasibility of a project, we should strive to get as much information about the difficulty as quickly as possible. This suggests starting with tasks with a high failure rate."
   ]
  },
  {
   "cell_type": "markdown",
   "metadata": {},
   "source": [
    "The idea behind this approach is and some other useful information is discussed here. =https://cs.stanford.edu/~jsteinhardt/ResearchasaStochasticDecisionProcess.html"
   ]
  },
  {
   "cell_type": "markdown",
   "metadata": {
    "toc-hr-collapsed": false
   },
   "source": [
    "## Setup"
   ]
  },
  {
   "cell_type": "markdown",
   "metadata": {},
   "source": [
    "### What you need to use this tool."
   ]
  },
  {
   "cell_type": "markdown",
   "metadata": {},
   "source": [
    "1. From the Anaconda Navigator, install Jupyter Lab if it's not already installed.\n",
    "2. Go to the environments tab on the anaconda navigator. Switch installed to not installed and search for and install the following packages\n",
    "    1. pandas\n",
    "    2. nodejs\n",
    "    3. ipywidgets\n",
    "3. Go to the Anaconda Prompt and install ipysheets by entering the following command:\n",
    "\n",
    "conda install -c conda-forge ipysheet\n",
    "\n",
    "3. Go to Jupyter Lab. Open a new terminal. Enter the following command to get ipywidgets as an extension\n",
    "\n",
    "jupyter labextension install @jupyter-widgets/jupyterlab-manager\n",
    "\n",
    "4. After this has finished installing (it will take a few minutes) enter the following command to get ipysheets as an extension.\n",
    "\n",
    "jupyter labextension install ipysheet\n",
    "\n",
    "Now your ready to use the tool!"
   ]
  },
  {
   "cell_type": "markdown",
   "metadata": {},
   "source": [
    "### Imports and settings"
   ]
  },
  {
   "cell_type": "code",
   "execution_count": 1,
   "metadata": {},
   "outputs": [],
   "source": [
    "%reload_ext autoreload\n",
    "%matplotlib inline\n",
    "%autoreload 2"
   ]
  },
  {
   "cell_type": "code",
   "execution_count": 2,
   "metadata": {},
   "outputs": [],
   "source": [
    "import ipywidgets\n",
    "import ipysheet\n",
    "import pandas as pd\n",
    "from itertools import permutations\n",
    "import numpy as np\n",
    "import matplotlib.pyplot as plt\n",
    "from IPython.display import display\n",
    "import math"
   ]
  },
  {
   "cell_type": "code",
   "execution_count": 3,
   "metadata": {},
   "outputs": [],
   "source": [
    "from time import process_time"
   ]
  },
  {
   "cell_type": "markdown",
   "metadata": {},
   "source": [
    "### Data Entry"
   ]
  },
  {
   "cell_type": "markdown",
   "metadata": {},
   "source": [
    "Add your data here just like you would on an Excel spreadsheet. \n",
    "\n",
    "Note: For the dependency columns, type the row numbers of the tasks that task A depends on in task A's dependencies (In the example, \"Eat a frog\" depends on \"Eat a bigger one\", and eat a bigger one is listed on row 2, so I put a 2 in d1, row 1).\n",
    "\n",
    "Note: To adjust number of columns or number of rows, change the numbers in the code block below (default is 5 for each).\n",
    "\n",
    "##### Important: provide your estimate for the probability of failing on the task, not succeeding."
   ]
  },
  {
   "cell_type": "code",
   "execution_count": 148,
   "metadata": {
    "scrolled": true,
    "slideshow": {
     "slide_type": "slide"
    }
   },
   "outputs": [
    {
     "data": {
      "application/vnd.jupyter.widget-view+json": {
       "model_id": "f9c82bff6bfa4e548a7b361017392fb8",
       "version_major": 2,
       "version_minor": 0
      },
      "text/plain": [
       "Sheet(cells=(Cell(column_end=9, column_start=0, row_end=5, row_start=0, squeeze_column=False, squeeze_row=Fals…"
      ]
     },
     "metadata": {},
     "output_type": "display_data"
    }
   ],
   "source": [
    "\n",
    "rows = 6 # change as needed\n",
    "columns = 10 # change as needed\n",
    "labels = ['task', 'time', 'probability'] + [\"d\" + str(i + 1) for i in range(columns - 3)]\n",
    "sheet = ipysheet.sheet(rows=rows, columns=columns, column_headers=labels)\n",
    "data = [[None for i in range(columns)] for i in range(rows)]\n",
    "ipysheet.cell_range(data)\n",
    "sheet"
   ]
  },
  {
   "cell_type": "markdown",
   "metadata": {},
   "source": [
    "Following code trims the dataframe to the values that the user put in."
   ]
  },
  {
   "cell_type": "code",
   "execution_count": 172,
   "metadata": {
    "slideshow": {
     "slide_type": "subslide"
    }
   },
   "outputs": [
    {
     "data": {
      "text/html": [
       "<div>\n",
       "<style scoped>\n",
       "    .dataframe tbody tr th:only-of-type {\n",
       "        vertical-align: middle;\n",
       "    }\n",
       "\n",
       "    .dataframe tbody tr th {\n",
       "        vertical-align: top;\n",
       "    }\n",
       "\n",
       "    .dataframe thead th {\n",
       "        text-align: right;\n",
       "    }\n",
       "</style>\n",
       "<table border=\"1\" class=\"dataframe\">\n",
       "  <thead>\n",
       "    <tr style=\"text-align: right;\">\n",
       "      <th></th>\n",
       "      <th>task</th>\n",
       "      <th>time</th>\n",
       "      <th>probability</th>\n",
       "      <th>d1</th>\n",
       "      <th>d2</th>\n",
       "      <th>d3</th>\n",
       "      <th>d4</th>\n",
       "    </tr>\n",
       "  </thead>\n",
       "  <tbody>\n",
       "    <tr>\n",
       "      <th>0</th>\n",
       "      <td>A</td>\n",
       "      <td>23.0</td>\n",
       "      <td>0.40</td>\n",
       "      <td>3.0</td>\n",
       "      <td>4.0</td>\n",
       "      <td>0.0</td>\n",
       "      <td>0.0</td>\n",
       "    </tr>\n",
       "    <tr>\n",
       "      <th>1</th>\n",
       "      <td>B</td>\n",
       "      <td>13.0</td>\n",
       "      <td>0.11</td>\n",
       "      <td>5.0</td>\n",
       "      <td>6.0</td>\n",
       "      <td>3.0</td>\n",
       "      <td>4.0</td>\n",
       "    </tr>\n",
       "    <tr>\n",
       "      <th>2</th>\n",
       "      <td>C</td>\n",
       "      <td>8.0</td>\n",
       "      <td>0.08</td>\n",
       "      <td>0.0</td>\n",
       "      <td>0.0</td>\n",
       "      <td>0.0</td>\n",
       "      <td>0.0</td>\n",
       "    </tr>\n",
       "    <tr>\n",
       "      <th>3</th>\n",
       "      <td>D</td>\n",
       "      <td>6.0</td>\n",
       "      <td>0.02</td>\n",
       "      <td>0.0</td>\n",
       "      <td>0.0</td>\n",
       "      <td>0.0</td>\n",
       "      <td>0.0</td>\n",
       "    </tr>\n",
       "    <tr>\n",
       "      <th>4</th>\n",
       "      <td>E</td>\n",
       "      <td>4.0</td>\n",
       "      <td>0.10</td>\n",
       "      <td>0.0</td>\n",
       "      <td>0.0</td>\n",
       "      <td>0.0</td>\n",
       "      <td>0.0</td>\n",
       "    </tr>\n",
       "    <tr>\n",
       "      <th>5</th>\n",
       "      <td>F</td>\n",
       "      <td>3.0</td>\n",
       "      <td>0.30</td>\n",
       "      <td>1.0</td>\n",
       "      <td>0.0</td>\n",
       "      <td>0.0</td>\n",
       "      <td>0.0</td>\n",
       "    </tr>\n",
       "  </tbody>\n",
       "</table>\n",
       "</div>"
      ],
      "text/plain": [
       "  task  time  probability   d1   d2   d3   d4\n",
       "0    A  23.0         0.40  3.0  4.0  0.0  0.0\n",
       "1    B  13.0         0.11  5.0  6.0  3.0  4.0\n",
       "2    C   8.0         0.08  0.0  0.0  0.0  0.0\n",
       "3    D   6.0         0.02  0.0  0.0  0.0  0.0\n",
       "4    E   4.0         0.10  0.0  0.0  0.0  0.0\n",
       "5    F   3.0         0.30  1.0  0.0  0.0  0.0"
      ]
     },
     "execution_count": 172,
     "metadata": {},
     "output_type": "execute_result"
    }
   ],
   "source": [
    "df = ipysheet.to_dataframe(sheet)\n",
    "df.fillna(0, inplace=True)\n",
    "df.replace(to_replace=[''], value=0, inplace=True)\n",
    "df.replace(to_replace=[None], value=0, inplace=True)\n",
    "df.values\n",
    "df.iloc[:,1:columns] = df.iloc[:,1:columns].astype(float)\n",
    "deps = df.filter(like='d')\n",
    "stop = np.where(np.sum(deps.values, 0)==0)[0][0]\n",
    "df = df.iloc[0:rows,0:stop+3]\n",
    "df"
   ]
  },
  {
   "cell_type": "markdown",
   "metadata": {},
   "source": [
    "The table above should have all of the values you put in. The only difference will be that the blank dependencies now have a 0 in them."
   ]
  },
  {
   "cell_type": "markdown",
   "metadata": {},
   "source": [
    "## Code Body"
   ]
  },
  {
   "cell_type": "markdown",
   "metadata": {},
   "source": [
    "Filters through all $n!$ permutations and elimintates those which violate a dependency."
   ]
  },
  {
   "cell_type": "markdown",
   "metadata": {},
   "source": [
    "Get an efficient size for the dependencies"
   ]
  },
  {
   "cell_type": "code",
   "execution_count": 173,
   "metadata": {},
   "outputs": [],
   "source": [
    "deps = df.filter(like='d')# get nonzero dependencies\n",
    "try:\n",
    "    stop = np.where(np.sum(deps.values, 0)==0)[0][0]\n",
    "    depMat = deps.values[:,:stop]\n",
    "except IndexError:\n",
    "    depMat = deps.values"
   ]
  },
  {
   "cell_type": "code",
   "execution_count": 174,
   "metadata": {},
   "outputs": [],
   "source": [
    "perms = permutations(range(1,rows+1))\n",
    "valid_perms = []\n",
    "for perm in perms:\n",
    "    prev_ind = [0]\n",
    "    success = 0\n",
    "    for index in perm:\n",
    "        dep = depMat[index-1, :]\n",
    "        sub_true = all(elem in prev_ind for elem in dep)\n",
    "        if sub_true:\n",
    "            prev_ind.append(index)\n",
    "            success += 1\n",
    "            continue\n",
    "        else:\n",
    "            break\n",
    "    if success == df.shape[0]:\n",
    "        valid_perms.append(perm)\n",
    "        s = 1"
   ]
  },
  {
   "cell_type": "code",
   "execution_count": 175,
   "metadata": {},
   "outputs": [
    {
     "data": {
      "text/plain": [
       "[(3, 4, 1, 5, 6, 2),\n",
       " (3, 4, 1, 6, 5, 2),\n",
       " (3, 4, 5, 1, 6, 2),\n",
       " (3, 5, 4, 1, 6, 2),\n",
       " (4, 3, 1, 5, 6, 2),\n",
       " (4, 3, 1, 6, 5, 2),\n",
       " (4, 3, 5, 1, 6, 2),\n",
       " (4, 5, 3, 1, 6, 2),\n",
       " (5, 3, 4, 1, 6, 2),\n",
       " (5, 4, 3, 1, 6, 2)]"
      ]
     },
     "execution_count": 175,
     "metadata": {},
     "output_type": "execute_result"
    }
   ],
   "source": [
    "valid_perms"
   ]
  },
  {
   "cell_type": "code",
   "execution_count": 176,
   "metadata": {},
   "outputs": [],
   "source": [
    "sums = []\n",
    "for perm in valid_perms:\n",
    "    prob = df['probability'][np.array(perm) - 1].values\n",
    "    time = df['time'][np.array(perm) - 1].values\n",
    "    pmat = np.tril(np.repeat(np.expand_dims((1-prob), 0), repeats=prob.shape[0], axis=0))\n",
    "    np.fill_diagonal(pmat, 0)\n",
    "    ones = np.triu(np.ones(np.shape(pmat)))\n",
    "    np.fill_diagonal(ones, 0)\n",
    "    pprod = np.prod(ones + pmat + np.diag(prob), 1)\n",
    "    tmat = np.tril(np.repeat(np.expand_dims(time, 0), repeats=time.shape[0], axis=0))\n",
    "    np.fill_diagonal(tmat, 0)\n",
    "    tsum = np.sum(tmat, 1)\n",
    "    sums.append(np.sum(pprod*(tsum + \n",
    "                        (np.log((1 - prob)**(1-prob)) + prob)/(np.log((1/(1-prob))**prob)))))"
   ]
  },
  {
   "cell_type": "code",
   "execution_count": 177,
   "metadata": {},
   "outputs": [],
   "source": [
    "task_order = np.argsort(sums)\n",
    "sorted_sums = np.sort(sums)"
   ]
  },
  {
   "cell_type": "markdown",
   "metadata": {},
   "source": [
    "## Report"
   ]
  },
  {
   "cell_type": "code",
   "execution_count": 178,
   "metadata": {},
   "outputs": [
    {
     "data": {
      "image/png": "[encoded data removed]",
      "text/plain": [
       "<Figure size 432x288 with 1 Axes>"
      ]
     },
     "metadata": {
      "needs_background": "light"
     },
     "output_type": "display_data"
    }
   ],
   "source": [
    "fig, axs = plt.subplots(1, 1)\n",
    "axs.plot(np.arange(len(sorted_sums)), sorted_sums)\n",
    "plt.xticks([])\n",
    "plt.title('Distribution of Times')\n",
    "plt.show()"
   ]
  },
  {
   "cell_type": "markdown",
   "metadata": {},
   "source": [
    "# Alternative Algorithm"
   ]
  },
  {
   "cell_type": "markdown",
   "metadata": {},
   "source": [
    "Get optimal ordering"
   ]
  },
  {
   "cell_type": "markdown",
   "metadata": {},
   "source": [
    "Overview of Algorithm:\n",
    "1. Find optimal ordering (simply by arranging the lambdas)\n",
    "2. Compute the \"maximaly helpful swaps\" for getting dependencies in order.\n",
    "3. If maximaly helpful swaps is empty:\n",
    "    1. Return order\n",
    "4. Otherwise\n",
    "    1. Get new arrangements\n",
    "    2. Compute which one is best.\n",
    "    3. Repeat step 2 using this as optimal lambda.\n",
    "    "
   ]
  },
  {
   "cell_type": "code",
   "execution_count": 179,
   "metadata": {},
   "outputs": [],
   "source": [
    "prob = df['probability'].values\n",
    "time = df['time'].values\n",
    "lambind = np.flip(np.argsort(1/time*np.log(1/(1-prob)))) + 1#get ordered lambdas"
   ]
  },
  {
   "cell_type": "code",
   "execution_count": 180,
   "metadata": {},
   "outputs": [],
   "source": [
    "def optimize(lambi, prev=np.zeros([1,df.shape[0]])):\n",
    "    flips = get_flips(lambi, depMat)\n",
    "    if flips.size==0:\n",
    "        new_lambis = flip_them(lambi, np.array(list(range(len(lambi) - 1))))\n",
    "        new_lambis = np.append(new_lambis, np.expand_dims(lambi, 0), 0).astype(int)\n",
    "        valid_perms = validate_perms(new_lambis)\n",
    "        print(valid_perms)\n",
    "        sums = compute_time(valid_perms)\n",
    "        best = valid_perms[np.argmin(sums)].astype(int)\n",
    "        return best\n",
    "    new_lambis = flip_them(lambi, flips)\n",
    "    new_lambis = check_unique(new_lambis, prev)\n",
    "    sums = compute_time(new_lambis)\n",
    "    best = new_lambis[np.argmin(sums)].astype(int)\n",
    "    prev = np.append(prev, np.expand_dims(best, 0), 0)\n",
    "    return optimize(best, prev=prev)\n",
    "    "
   ]
  },
  {
   "cell_type": "code",
   "execution_count": 181,
   "metadata": {},
   "outputs": [],
   "source": [
    "def check_unique(new_lambis, prev):\n",
    "    for i, row in enumerate(new_lambis):\n",
    "        if (prev==row).all(axis=1).any():\n",
    "            new_lambis[i,:] = np.zeros(new_lambis.shape[1])\n",
    "    new_lambis = new_lambis[~np.all(new_lambis==0, axis=1)]\n",
    "    return new_lambis"
   ]
  },
  {
   "cell_type": "code",
   "execution_count": 182,
   "metadata": {},
   "outputs": [],
   "source": [
    "def validate_perms(perms):\n",
    "    valid_perms = []\n",
    "    for perm in perms:\n",
    "        prev_ind = [0]\n",
    "        success = 0\n",
    "        for index in perm:\n",
    "            dep = depMat[index-1, :]\n",
    "            sub_true = all(elem in prev_ind for elem in dep)\n",
    "            if sub_true:\n",
    "                prev_ind.append(index)\n",
    "                success += 1\n",
    "                continue\n",
    "            else:\n",
    "                break\n",
    "        if success == df.shape[0]:\n",
    "            valid_perms.append(perm)\n",
    "            s = 1\n",
    "    return valid_perms"
   ]
  },
  {
   "cell_type": "code",
   "execution_count": 183,
   "metadata": {},
   "outputs": [],
   "source": [
    "def compute_time(perms):\n",
    "    '''Computes the time for each permutation of the rows in perms'''\n",
    "    sums = []\n",
    "    for perm in perms:\n",
    "        prob = df['probability'][perm - 1].values\n",
    "        time = df['time'][perm - 1].values\n",
    "        pmat = np.tril(np.repeat(np.expand_dims((1-prob), 0), repeats=prob.shape[0], axis=0))\n",
    "        np.fill_diagonal(pmat, 0)\n",
    "        ones = np.triu(np.ones(np.shape(pmat)))\n",
    "        np.fill_diagonal(ones, 0)\n",
    "        pprod = np.prod(ones + pmat + np.diag(prob), 1)\n",
    "        tmat = np.tril(np.repeat(np.expand_dims(time, 0), repeats=time.shape[0], axis=0))\n",
    "        np.fill_diagonal(tmat, 0)\n",
    "        tsum = np.sum(tmat, 1)\n",
    "        sums.append(np.sum(pprod*(tsum + \n",
    "                            (np.log((1 - prob)**(1-prob)) + prob)/(np.log((1/(1-prob))**prob)))))\n",
    "    return sums"
   ]
  },
  {
   "cell_type": "code",
   "execution_count": 184,
   "metadata": {},
   "outputs": [],
   "source": [
    "def flip_them(lambi, flips):\n",
    "    \"\"\"returns a matrix where each row\n",
    "    is the result of flipping lambi with\n",
    "    one of the flips\"\"\"\n",
    "    new = np.zeros([len(flips), len(lambi)])\n",
    "    for count, i in enumerate(flips):\n",
    "        temp = lambi.copy()\n",
    "        temp[i], temp[i + 1] = temp[i + 1], temp[i]\n",
    "        new[count,:] += temp\n",
    "    return new    "
   ]
  },
  {
   "cell_type": "code",
   "execution_count": 185,
   "metadata": {},
   "outputs": [],
   "source": [
    "def find_parents(row, lambi):\n",
    "    '''Returns the inidicies of lambi where\n",
    "    the tasks that task in row is dependent on\n",
    "    are located'''\n",
    "    deps = depMat[row-1] #minus 1 cause index\n",
    "    parent_rows = deps[np.nonzero(deps)] #rid zeros\n",
    "    parent_loc = np.where(np.in1d(lambi, parent_rows))[0]\n",
    "    return parent_loc"
   ]
  },
  {
   "cell_type": "code",
   "execution_count": 186,
   "metadata": {},
   "outputs": [],
   "source": [
    "def find_kids(row, lambi):\n",
    "    '''Returns the inidicies of lambi where\n",
    "    the dependents of task in \"row\" are located'''\n",
    "    child_rows = np.argwhere(depMat==row)[:,0] + 1\n",
    "    child_loc = np.where(np.in1d(lambi, child_rows))[0]\n",
    "    return child_loc"
   ]
  },
  {
   "cell_type": "code",
   "execution_count": 187,
   "metadata": {},
   "outputs": [],
   "source": [
    "def calc_bias(loc, kid_loc, par_loc):\n",
    "    '''returns the net bias to move to\n",
    "    the right'''\n",
    "    l_bias = (kid_loc<loc).sum()\n",
    "    if (par_loc==loc-1).any() and l_bias!=0:\n",
    "        l_bias -= 1/2\n",
    "    r_bias = (par_loc>loc).sum()\n",
    "    if (kid_loc==loc+1).any() and r_bias!=0:\n",
    "        r_bias -= 1/2\n",
    "    return r_bias - l_bias"
   ]
  },
  {
   "cell_type": "code",
   "execution_count": 188,
   "metadata": {},
   "outputs": [],
   "source": [
    "def get_flips(lambi, depMat):\n",
    "    '''Returns the set of flips with\n",
    "    the largest bias'''\n",
    "    biases = []\n",
    "    flip_biases = []\n",
    "    for i in lambi:\n",
    "        kid_loc = find_kids(i, lambi)\n",
    "        par_loc = find_parents(i, lambi)\n",
    "        loc = np.argwhere(lambi==i)[0]\n",
    "        biases.append(calc_bias(loc, kid_loc, par_loc))\n",
    "    for j in range(len(biases)-1):\n",
    "        flip_biases.append(biases[j] - biases[j+1])\n",
    "    flip_biases=np.array(flip_biases)\n",
    "    if (flip_biases>0).sum()>0:\n",
    "        return np.argwhere(flip_biases==np.amax(flip_biases)).flatten()\n",
    "    else:\n",
    "        return np.array([])"
   ]
  },
  {
   "cell_type": "code",
   "execution_count": 189,
   "metadata": {},
   "outputs": [
    {
     "data": {
      "text/plain": [
       "(5, 3, 4, 1, 6, 2)"
      ]
     },
     "execution_count": 189,
     "metadata": {},
     "output_type": "execute_result"
    }
   ],
   "source": [
    "valid_perms[task_order[0]]"
   ]
  },
  {
   "cell_type": "code",
   "execution_count": 190,
   "metadata": {},
   "outputs": [
    {
     "name": "stdout",
     "output_type": "stream",
     "text": [
      "[array([3, 5, 4, 1, 6, 2]), array([5, 4, 3, 1, 6, 2]), array([5, 3, 4, 1, 6, 2])]\n"
     ]
    },
    {
     "data": {
      "text/plain": [
       "array([5, 3, 4, 1, 6, 2])"
      ]
     },
     "execution_count": 190,
     "metadata": {},
     "output_type": "execute_result"
    }
   ],
   "source": [
    "optimize(lambind)"
   ]
  },
  {
   "cell_type": "markdown",
   "metadata": {},
   "source": [
    "Algorithm Overview\n",
    "1. Get the optimal ordering of lambdas\n",
    "2. For each lambda element\n",
    "    1. Find all parents to the left.\n",
    "    2. Find all children to the right.\n",
    "    3. Subtract left from right (to get net bias to the left)\n",
    "3. For each i, i+1 pair in the lambda indices\n",
    "    1. Compute i's net balance minus i+1's net balance (will get total bias of flip)\n",
    "4. For each of these\n",
    "    1. "
   ]
  },
  {
   "cell_type": "markdown",
   "metadata": {},
   "source": [
    "Cumulative distribution function given by $-e^{-\\lambda T}$"
   ]
  },
  {
   "cell_type": "markdown",
   "metadata": {},
   "source": [
    "Our algorithm will test all of the valid permutations and try to minimize\n",
    "    $\\text{E}[T_f]$,\n",
    "Where $T_f$ is the time until we fail. This q"
   ]
  },
  {
   "cell_type": "markdown",
   "metadata": {},
   "source": [
    "## Appendix A"
   ]
  },
  {
   "cell_type": "markdown",
   "metadata": {},
   "source": [
    "We want to calculate the expected time to termination for a given sequence of $n$ tasks. We either terminate by completing all of our tasks or failing on one of them. Let $T$ be the random variable denoting time until termination. $S$ be a random variable indicating whether we have succeeded or not.\n",
    "From the law of total expectation, "
   ]
  },
  {
   "cell_type": "markdown",
   "metadata": {},
   "source": [
    "$$\n",
    "\\text{E}[T] = \\text{E}[\\text{E}[T \\vert S]] = \\text{P}(S = 1)\\text{E}[T \\vert S = 1] + \\text{P}(S = 0)\\text{E}[T \\vert S = 0].\n",
    "$$"
   ]
  },
  {
   "cell_type": "markdown",
   "metadata": {},
   "source": [
    "To start we will focus our calculation on $\\text{E}[T \\vert S = 0]$. Let $L_i$ be the event that we fail on the $i^{\\text{th}}$ task, for $i \\in \\{ 1, \\dots, n\\}$. Observe that the possible events given we fail are $L_1, \\dots, L_n$. Thus, $L_1, \\dots, L_n$ partitions $\\{S = 0\\}$. This means that we can apply the law of total expectation again to yield\n"
   ]
  },
  {
   "cell_type": "markdown",
   "metadata": {},
   "source": [
    "$$\n",
    "\\text{E}[T \\vert S = 0] = \\text{P}(L_1)\\text{E}[T \\vert L_1] + \\dots + \\text{P}(L_n)\\text{E}[T \\vert L_n].\n",
    "$$"
   ]
  },
  {
   "cell_type": "markdown",
   "metadata": {},
   "source": [
    "$\\text{P}(L_i)$ is determined by the probability of getting to task $i$ and the probability of failing at task $i$. It can be calculated with"
   ]
  },
  {
   "cell_type": "markdown",
   "metadata": {},
   "source": [
    "$$\n",
    "\\text{P}(L_i) = p_i \\prod_{k = 1}^{i - 1} (1 - p_{k}).\n",
    "$$"
   ]
  },
  {
   "cell_type": "markdown",
   "metadata": {},
   "source": [
    "Next, to calculate $\\text{E}[T \\vert L_i]$, let the starting time $t_{s}$ denote the time at which we start the $i^{\\text{th}}$ task. Let $t_{i}$ denote the time the $i^{\\text{th}}$ task takes us. Let $T_{i}$ be the random variable denoting the time spent on task $i$ given that we fail on task $i$. Suppose that the task fails at a rate $\\lambda$ which is independent of how long we have been working on it. Then $f(t) = \\lambda e^{-\\lambda t}$ is the probability density function for failure time if the task is allowed to continue indefinately until we fail. We have assumed that the task will fail before $t_{i}$. It therefore follows that the probability density function for $T_{i}$ is $f(t \\vert t< t_{i})$. This function has is given by"
   ]
  },
  {
   "cell_type": "markdown",
   "metadata": {},
   "source": [
    "$$\n",
    "f(t \\vert t \\leq t_{i})= \\begin{cases}\n",
    "\\frac{1}{A}\\lambda e^{-\\lambda t}, \\hspace{1cm} 0 \\leq t \\leq t_{i}, \\\\\n",
    "0, \\hspace{1.8cm} \\text{otherwise}.\n",
    "\\end{cases}\n",
    "$$"
   ]
  },
  {
   "cell_type": "markdown",
   "metadata": {},
   "source": [
    "Where $A$ denotes the area under the curve of $f(t)$ from $0$ to $t_{i}$. To calculate $A$, we have"
   ]
  },
  {
   "cell_type": "markdown",
   "metadata": {},
   "source": [
    "$$\n",
    "A = \\int_0^{t_{i}} \\lambda e^{-\\lambda t} dt = 1 - e^{-\\lambda t_{i}}.\n",
    "$$"
   ]
  },
  {
   "cell_type": "markdown",
   "metadata": {},
   "source": [
    "To calculate $\\text{E}[T]$ we now have"
   ]
  },
  {
   "cell_type": "markdown",
   "metadata": {},
   "source": [
    "$$\n",
    "\\text{E}[T \\vert L_i] = t_0 + \\frac{1}{ 1 - e^{-\\lambda t_{i}}} \\int_0^{t_{i}} \\lambda t e^{-\\lambda t} dt,\n",
    "$$"
   ]
  },
  {
   "cell_type": "markdown",
   "metadata": {},
   "source": [
    "which after some simplification yeilds"
   ]
  },
  {
   "cell_type": "markdown",
   "metadata": {},
   "source": [
    "$$\n",
    "\\text{E}[T \\vert L_i] = t_0 + \\frac{1 - t_{i} \\lambda e^{-\\lambda t_{i}} - e^{-\\lambda t_{i}}}{\\lambda(1 - e^{-\\lambda t_{i}})}.\n",
    "$$"
   ]
  },
  {
   "cell_type": "markdown",
   "metadata": {},
   "source": [
    "$\\lambda$ is currently an unknown value. The values we are given are $t_i$ and the probability of failure $p_i$. We need to write $\\lambda$ in terms of these known quantities. This can be done with the following equation."
   ]
  },
  {
   "cell_type": "markdown",
   "metadata": {},
   "source": [
    "$$\n",
    "1 - e^{- \\lambda t_i} = p_{i},\n",
    "$$"
   ]
  },
  {
   "cell_type": "markdown",
   "metadata": {},
   "source": [
    "which yields"
   ]
  },
  {
   "cell_type": "markdown",
   "metadata": {},
   "source": [
    "$$\n",
    "\\lambda = \\frac{1}{t_i}\\ln \\Big{(}\\frac{1}{1 - p_{i}}\\Big{)}\n",
    "$$"
   ]
  },
  {
   "cell_type": "markdown",
   "metadata": {},
   "source": [
    "By substituting this value of $\\lambda$ into the above equation and simplifying we get"
   ]
  },
  {
   "cell_type": "markdown",
   "metadata": {},
   "source": [
    "$$\n",
    "\\text{E}[T \\vert L_i] = t_0 + \\frac{t_i\\big{(}\\ln\\big{(}(1 - p_i)^{1 - p}\\big{)} + p_i\\big{)}}{\\ln\\Big{(}\\big{(}\\frac{1}{1-p_{i}}\\big{)}^{p_{i}}\\Big{)}}.\n",
    "$$"
   ]
  },
  {
   "cell_type": "markdown",
   "metadata": {},
   "source": [
    "Thus, $\\text{P}(L_i)\\text{E}[T \\vert L_i]$ is given by"
   ]
  },
  {
   "cell_type": "markdown",
   "metadata": {},
   "source": [
    "$$\n",
    "\\text{P}(L_i)\\text{E}[T \\vert L_i] = p_i \\prod_{k = 1}^{i - 1} (1 - p_{k}) \\Bigg{(}t_0 + \\frac{t_i\\big{(}\\ln\\big{(}(1 - p_i)^{1 - p}\\big{)} + p_i\\big{)}}{\\ln\\Big{(}\\big{(}\\frac{1}{1-p_{i}}\\big{)}^{p_{i}}\\Big{)}} \\Bigg{)}.\n",
    "$$"
   ]
  },
  {
   "cell_type": "markdown",
   "metadata": {},
   "source": [
    "Note that for each $i \\in \\{1, \\dots n\\}$, $t_0$ is the time to complete the $1^{\\text{st}}$ through $i - 1^{\\text{th}}$ task. Then we can write $t_0$ as"
   ]
  },
  {
   "cell_type": "markdown",
   "metadata": {},
   "source": [
    "$$\n",
    "t_0 = \\sum_{j = 1}^{i - 1} t_j.\n",
    "$$"
   ]
  },
  {
   "cell_type": "markdown",
   "metadata": {},
   "source": [
    "This implies that our final equation for $\\text{P}(L_i)\\text{E}[T \\vert L_i]$ is given by"
   ]
  },
  {
   "cell_type": "markdown",
   "metadata": {},
   "source": [
    "$$\n",
    "\\text{P}(L_i)\\text{E}[T \\vert L_i] = p_i \\prod_{k = 1}^{i - 1} (1 - p_{k}) \\Bigg{(}\\sum_{j = 1}^{i - 1} t_j + \\frac{t_i\\big{(}\\ln\\big{(}(1 - p_i)^{1 - p}\\big{)} + p_i\\big{)}}{\\ln\\Big{(}\\big{(}\\frac{1}{1-p_{i}}\\big{)}^{p_{i}}\\Big{)}} \\Bigg{)}.\n",
    "$$"
   ]
  },
  {
   "cell_type": "markdown",
   "metadata": {},
   "source": [
    "To find $\\text{E}[T \\vert S = 1]$, we must simply sum through all of the terms."
   ]
  },
  {
   "cell_type": "markdown",
   "metadata": {},
   "source": [
    "$$\n",
    "\\text{E}[T \\vert S = 1] = \\sum_{i = 1}^n \\Bigg{(} \\text{P}(L_i)\\text{E}[T \\vert L_i] = p_i \\prod_{k = 1}^{i - 1} (1 - p_{k}) \\Bigg{(}\\sum_{j = 1}^{i - 1} t_j + \\frac{t_i\\big{(}\\ln\\big{(}(1 - p_i)^{1 - p}\\big{)} + p_i\\big{)}}{\\ln\\Big{(}\\big{(}\\frac{1}{1-p_{i}}\\big{)}^{p_{i}}\\Big{)}} \\Bigg{)} \\Bigg{)}\n",
    "$$"
   ]
  },
  {
   "cell_type": "markdown",
   "metadata": {},
   "source": [
    "Next, by looking at the complement of $\\text{P}(S = 0)$ we have"
   ]
  },
  {
   "cell_type": "markdown",
   "metadata": {},
   "source": [
    "$$\n",
    "\\text{P}(S = 0) = 1 - \\text{P}(S = 1) = 1 - \\prod_{i = 1}^{n} (1 - p_i).\n",
    "$$"
   ]
  },
  {
   "cell_type": "markdown",
   "metadata": {},
   "source": [
    "$\\text{E}[T \\vert S = 1]$ is simply the expected time to success, which is simply the sum of the expected times to complete each task given by"
   ]
  },
  {
   "cell_type": "markdown",
   "metadata": {},
   "source": [
    "$$\n",
    "\\text{E}[T \\vert S = 1] = \\sum_{i = 1}^n t_i\n",
    "$$"
   ]
  },
  {
   "cell_type": "markdown",
   "metadata": {},
   "source": [
    "Putting all of this together, we find"
   ]
  },
  {
   "cell_type": "markdown",
   "metadata": {},
   "source": [
    "$$\n",
    "\\text{E}[T] = \\Big{(}1 - \\prod_{i = 1}^{n} (1 - p_i)\\Big{)}\\sum_{i = 1}^n t_i + \\prod_{i = 1}^{n} (1 - p_i) \\Bigg{(} \\sum_{i = 1}^n \\Bigg{(} \\text{P}(L_i)\\text{E}[T \\vert L_i] = p_i \\prod_{k = 1}^{i - 1} (1 - p_{k}) \\Bigg{(}\\sum_{j = 1}^{i - 1} t_j + \\frac{t_i\\big{(}\\ln\\big{(}(1 - p_i)^{1 - p}\\big{)} + p_i\\big{)}}{\\ln\\Big{(}\\big{(}\\frac{1}{1-p_{i}}\\big{)}^{p_{i}}\\Big{)}} \\Bigg{)} \\Bigg{)} \\Bigg{)}\n",
    "$$"
   ]
  },
  {
   "cell_type": "markdown",
   "metadata": {},
   "source": [
    "## Appendix B"
   ]
  },
  {
   "cell_type": "markdown",
   "metadata": {},
   "source": [
    "#### Lemma 1:\n",
    "<i>Let</i> $S_0 = s_1, \\dots s_j, s_{j + 1}, \\dots s_n$, $S_1 =  s_1, \\dots s_{j + 1}, s_{j} + \\dots + s_{n}$<i>be a sequence of tasks with</i> $n \\geq 2$. Let $\\lambda_i$ be the failure rate of task $s_i$, for $i \\in \\{1 \\dots n\\}$. Then $\\lambda_j > \\lambda_{j + 1}$ if and only if $\\text{E}[T \\vert s_1, \\dots s_j, s_{j + 1}, \\dots s_n] < \\text{E}[T \\vert s_1, \\dots s_{j + 1}, s_{j}, \\dots s_n]$."
   ]
  },
  {
   "cell_type": "markdown",
   "metadata": {},
   "source": [
    "<i>proof</i>\n",
    "$\\Rightarrow$\n",
    "Consider the events $\\text{E}_1 = L_1 \\cup \\dots \\cup L_{j - 1}, \\text{E}_2 = L_j \\cup L_{j + 1}$, and $\\text{E}_3 = L_{j + 2} \\cup \\dots \\cup L_n$ Observe $\\Omega = \\text{E}_1 \\cup \\text{E}_2 \\cup \\text{E}_3 \\cup S_0$. This implies $\\text{E}[T|S_0] = \\text{P}(\\text{E}_1 \\vert S_0)\\text{E}[T \\vert \\text{E}_1,S_0] + \\text{P}(\\text{E}_2 \\vert S_0)\\text{E}[T \\vert \\text{E}_2,S_0] + \\text{P}(\\text{E}_3 \\vert S_0)\\text{E}[T \\vert \\text{E}_3,S_0]$.  Observe that $f(T|\\text{E}_1, S_0) = f(T|\\text{E}_1, S_1), f(T"
   ]
  },
  {
   "cell_type": "markdown",
   "metadata": {},
   "source": [
    "### Theorem 1: \n",
    "<i>Let $s_1, \\dots s_n$ be a sequence of tasks such that $\\lambda_1 \\leq \\lambda_2 \\leq \\dots \\leq \\lambda_n$. Let S_n be the set of permutations </i>"
   ]
  },
  {
   "cell_type": "code",
   "execution_count": null,
   "metadata": {},
   "outputs": [],
   "source": []
  }
 ],
 "metadata": {
  "kernelspec": {
   "display_name": "Python 3",
   "language": "python",
   "name": "python3"
  },
  "language_info": {
   "codemirror_mode": {
    "name": "ipython",
    "version": 3
   },
   "file_extension": ".py",
   "mimetype": "text/x-python",
   "name": "python",
   "nbconvert_exporter": "python",
   "pygments_lexer": "ipython3",
   "version": "3.7.6"
  }
 },
 "nbformat": 4,
 "nbformat_minor": 4
}
